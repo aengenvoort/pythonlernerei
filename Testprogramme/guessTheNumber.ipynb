{
 "cells": [
  {
   "cell_type": "code",
   "execution_count": 22,
   "metadata": {},
   "outputs": [
    {
     "name": "stdout",
     "output_type": "stream",
     "text": [
      "Hello, welcome to my game. What is your name, friend?\n"
     ]
    },
    {
     "name": "stdin",
     "output_type": "stream",
     "text": [
      " Jan\n"
     ]
    },
    {
     "name": "stdout",
     "output_type": "stream",
     "text": [
      "Well hello there Jan. I am thinking of a number between 1 and 20, can you find out what it is? The world depends on you!\n",
      "DEBUG: 12\n",
      "Take a guess, Jan\n"
     ]
    },
    {
     "name": "stdin",
     "output_type": "stream",
     "text": [
      " 11\n"
     ]
    },
    {
     "name": "stdout",
     "output_type": "stream",
     "text": [
      "Your guess was too low.\n",
      "Take a guess, Jan\n"
     ]
    },
    {
     "name": "stdin",
     "output_type": "stream",
     "text": [
      " 13\n"
     ]
    },
    {
     "name": "stdout",
     "output_type": "stream",
     "text": [
      "Your guess was too high.\n",
      "Take a guess, Jan\n"
     ]
    },
    {
     "name": "stdin",
     "output_type": "stream",
     "text": [
      " 12\n"
     ]
    },
    {
     "name": "stdout",
     "output_type": "stream",
     "text": [
      "That is correct! It took you 3 guesses.\n"
     ]
    }
   ],
   "source": [
    "# This is a 'guess the random number' game. The user gets 6 chances to find a random number between 1 and 20\n",
    "\n",
    "print ('Hello, welcome to my game. What is your name, friend?')\n",
    "name = input()\n",
    "print ('Well hello there ' + str(name) + '. I am thinking of a number between 1 and 20, can you find out what it is? The world depends on you!')\n",
    "       \n",
    "secretNumber = random.randint(1,20)\n",
    "\n",
    "print ('DEBUG: ' + str(secretNumber)) #information for testing the program\n",
    "\n",
    "for guessesTaken in range (1, 7):\n",
    "    print ('Take a guess, ' + name)\n",
    "    guess = int(input())\n",
    "    if guess < secretNumber:\n",
    "        print ('Your guess was too low.')\n",
    "    elif guess > secretNumber:\n",
    "        print ('Your guess was too high.')\n",
    "    else:\n",
    "        break\n",
    "\n",
    "if guess == secretNumber:\n",
    "    print ('That is correct! It took you ' + str(guessesTaken) + ' guesses.')\n",
    "else:\n",
    "    print ('Nope, the corret number would have been ' + str(secretNumber) + '.')"
   ]
  },
  {
   "cell_type": "code",
   "execution_count": null,
   "metadata": {},
   "outputs": [],
   "source": []
  },
  {
   "cell_type": "code",
   "execution_count": null,
   "metadata": {},
   "outputs": [],
   "source": []
  }
 ],
 "metadata": {
  "kernelspec": {
   "display_name": "Python 3",
   "language": "python",
   "name": "python3"
  },
  "language_info": {
   "codemirror_mode": {
    "name": "ipython",
    "version": 3
   },
   "file_extension": ".py",
   "mimetype": "text/x-python",
   "name": "python",
   "nbconvert_exporter": "python",
   "pygments_lexer": "ipython3",
   "version": "3.7.1"
  }
 },
 "nbformat": 4,
 "nbformat_minor": 2
}
