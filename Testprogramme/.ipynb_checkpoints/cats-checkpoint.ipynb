{
 "cells": [
  {
   "cell_type": "code",
   "execution_count": 10,
   "metadata": {},
   "outputs": [
    {
     "name": "stdout",
     "output_type": "stream",
     "text": [
      "How many cats do you have?\n"
     ]
    },
    {
     "name": "stdin",
     "output_type": "stream",
     "text": [
      " -1\n"
     ]
    },
    {
     "name": "stdout",
     "output_type": "stream",
     "text": [
      "You cant have a negative amount of cats.\n"
     ]
    }
   ],
   "source": [
    "print ('How many cats do you have?')\n",
    "numCats = input()\n",
    "\n",
    "try:\n",
    "    if int (numCats) >= 4:\n",
    "        print ('That is a shitload of cats.')\n",
    "    elif int (numCats) < 0:\n",
    "        print ('You cant have a negative amount of cats.')\n",
    "    else:\n",
    "        print ('Alright, thats managable.')\n",
    "except ValueError:\n",
    "    print ('You did not enter a number.')"
   ]
  },
  {
   "cell_type": "code",
   "execution_count": null,
   "metadata": {},
   "outputs": [],
   "source": []
  },
  {
   "cell_type": "code",
   "execution_count": null,
   "metadata": {},
   "outputs": [],
   "source": []
  }
 ],
 "metadata": {
  "kernelspec": {
   "display_name": "Python 3",
   "language": "python",
   "name": "python3"
  },
  "language_info": {
   "codemirror_mode": {
    "name": "ipython",
    "version": 3
   },
   "file_extension": ".py",
   "mimetype": "text/x-python",
   "name": "python",
   "nbconvert_exporter": "python",
   "pygments_lexer": "ipython3",
   "version": "3.7.1"
  }
 },
 "nbformat": 4,
 "nbformat_minor": 2
}
