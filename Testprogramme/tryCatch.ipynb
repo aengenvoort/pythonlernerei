{
 "cells": [
  {
   "cell_type": "code",
   "execution_count": 3,
   "metadata": {},
   "outputs": [
    {
     "name": "stdout",
     "output_type": "stream",
     "text": [
      "1.0\n",
      "35.0\n",
      "Error, you tried to divide by 0.\n",
      "None\n",
      "42.0\n"
     ]
    }
   ],
   "source": [
    "def div420by (divideBy):\n",
    "    try:\n",
    "        return 420 / divideBy\n",
    "    except ZeroDivisionError:\n",
    "        print ('Error, you tried to divide by 0.')\n",
    "\n",
    "print (div420by(420))\n",
    "print (div420by(12))\n",
    "print (div420by(0))\n",
    "print (div420by(10))"
   ]
  },
  {
   "cell_type": "code",
   "execution_count": null,
   "metadata": {},
   "outputs": [],
   "source": []
  }
 ],
 "metadata": {
  "kernelspec": {
   "display_name": "Python 3",
   "language": "python",
   "name": "python3"
  },
  "language_info": {
   "codemirror_mode": {
    "name": "ipython",
    "version": 3
   },
   "file_extension": ".py",
   "mimetype": "text/x-python",
   "name": "python",
   "nbconvert_exporter": "python",
   "pygments_lexer": "ipython3",
   "version": "3.7.1"
  }
 },
 "nbformat": 4,
 "nbformat_minor": 2
}
