{
 "cells": [
  {
   "cell_type": "code",
   "execution_count": 3,
   "metadata": {},
   "outputs": [
    {
     "name": "stdout",
     "output_type": "stream",
     "text": [
      "My name is\n",
      "Jimmy Five Times 0\n",
      "Jimmy Five Times 1\n",
      "Jimmy Five Times 2\n",
      "Jimmy Five Times 3\n",
      "Jimmy Five Times 4\n"
     ]
    }
   ],
   "source": [
    "print ('My name is')\n",
    "i = 0\n",
    "while i<5:\n",
    "    print ('Jimmy Five Times ' + str(i))\n",
    "    i = i + 1\n",
    "    \n",
    "#for i in range (5):\n",
    "#   print ('Jimmy Five Times ' + str(i))"
   ]
  },
  {
   "cell_type": "code",
   "execution_count": null,
   "metadata": {},
   "outputs": [],
   "source": []
  }
 ],
 "metadata": {
  "kernelspec": {
   "display_name": "Python 3",
   "language": "python",
   "name": "python3"
  },
  "language_info": {
   "codemirror_mode": {
    "name": "ipython",
    "version": 3
   },
   "file_extension": ".py",
   "mimetype": "text/x-python",
   "name": "python",
   "nbconvert_exporter": "python",
   "pygments_lexer": "ipython3",
   "version": "3.7.1"
  }
 },
 "nbformat": 4,
 "nbformat_minor": 2
}
